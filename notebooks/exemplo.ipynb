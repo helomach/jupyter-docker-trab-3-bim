{
 "cells": [
  {
   "cell_type": "code",
   "execution_count": 2,
   "metadata": {},
   "outputs": [
    {
     "name": "stdout",
     "output_type": "stream",
     "text": [
      "Found existing installation: urllib3 2.0.6\n",
      "Uninstalling urllib3-2.0.6:\n",
      "  Successfully uninstalled urllib3-2.0.6\n",
      "Collecting elasticsearch\n",
      "  Obtaining dependency information for elasticsearch from https://files.pythonhosted.org/packages/61/81/d472e5679217fd61e6d052678f0c556978a43d79d8d6bf3b9c467dd15ba8/elasticsearch-8.10.0-py3-none-any.whl.metadata\n",
      "  Downloading elasticsearch-8.10.0-py3-none-any.whl.metadata (5.1 kB)\n",
      "Collecting elastic-transport<9,>=8 (from elasticsearch)\n",
      "  Obtaining dependency information for elastic-transport<9,>=8 from https://files.pythonhosted.org/packages/7e/1c/13bb1826382a1275e9191e9ab5cac3c59247f49c4b4dd96b131ec123d9ff/elastic_transport-8.4.1-py3-none-any.whl.metadata\n",
      "  Downloading elastic_transport-8.4.1-py3-none-any.whl.metadata (3.5 kB)\n",
      "Collecting urllib3<2,>=1.26.2 (from elastic-transport<9,>=8->elasticsearch)\n",
      "  Obtaining dependency information for urllib3<2,>=1.26.2 from https://files.pythonhosted.org/packages/48/fe/a5c6cc46e9fe9171d7ecf0f33ee7aae14642f8d74baa7af4d7840f9358be/urllib3-1.26.17-py2.py3-none-any.whl.metadata\n",
      "  Downloading urllib3-1.26.17-py2.py3-none-any.whl.metadata (48 kB)\n",
      "\u001b[2K     \u001b[90m━━━━━━━━━━━━━━━━━━━━━━━━━━━━━━━━━━━━━━━\u001b[0m \u001b[32m48.7/48.7 kB\u001b[0m \u001b[31m828.8 kB/s\u001b[0m eta \u001b[36m0:00:00\u001b[0m \u001b[36m0:00:01\u001b[0m\n",
      "\u001b[?25hRequirement already satisfied: certifi in /opt/conda/lib/python3.11/site-packages (from elastic-transport<9,>=8->elasticsearch) (2023.7.22)\n",
      "Downloading elasticsearch-8.10.0-py3-none-any.whl (414 kB)\n",
      "\u001b[2K   \u001b[90m━━━━━━━━━━━━━━━━━━━━━━━━━━━━━━━━━━━━━━━━\u001b[0m \u001b[32m415.0/415.0 kB\u001b[0m \u001b[31m2.5 MB/s\u001b[0m eta \u001b[36m0:00:00\u001b[0m00:01\u001b[0m00:01\u001b[0m\n",
      "\u001b[?25hDownloading elastic_transport-8.4.1-py3-none-any.whl (59 kB)\n",
      "\u001b[2K   \u001b[90m━━━━━━━━━━━━━━━━━━━━━━━━━━━━━━━━━━━━━━━━\u001b[0m \u001b[32m59.5/59.5 kB\u001b[0m \u001b[31m2.2 MB/s\u001b[0m eta \u001b[36m0:00:00\u001b[0m\n",
      "\u001b[?25hDownloading urllib3-1.26.17-py2.py3-none-any.whl (143 kB)\n",
      "\u001b[2K   \u001b[90m━━━━━━━━━━━━━━━━━━━━━━━━━━━━━━━━━━━━━━━━\u001b[0m \u001b[32m143.4/143.4 kB\u001b[0m \u001b[31m2.9 MB/s\u001b[0m eta \u001b[36m0:00:00\u001b[0m00:01\u001b[0m\n",
      "\u001b[?25hInstalling collected packages: urllib3, elastic-transport, elasticsearch\n",
      "Successfully installed elastic-transport-8.4.1 elasticsearch-8.10.0 urllib3-1.26.17\n"
     ]
    }
   ],
   "source": [
    "!pip uninstall -y urllib3\n",
    "!pip install elasticsearch"
   ]
  },
  {
   "cell_type": "code",
   "execution_count": 4,
   "metadata": {},
   "outputs": [
    {
     "name": "stderr",
     "output_type": "stream",
     "text": [
      "/tmp/ipykernel_1472/376769040.py:15: DeprecationWarning: The 'body' parameter is deprecated and will be removed in a future version. Instead use the 'document' parameter. See https://github.com/elastic/elasticsearch-py/issues/1698 for more information\n",
      "  es.index(index='dados_de_exemplo', id=i+1, body=dado)\n"
     ]
    },
    {
     "name": "stdout",
     "output_type": "stream",
     "text": [
      "Dados inseridos com sucesso no Elasticsearch!\n"
     ]
    },
    {
     "name": "stderr",
     "output_type": "stream",
     "text": [
      "/tmp/ipykernel_1472/376769040.py:15: ElasticsearchWarning: Elasticsearch built-in security features are not enabled. Without authentication, your cluster could be accessible to anyone. See https://www.elastic.co/guide/en/elasticsearch/reference/7.15/security-minimal-setup.html to enable security.\n",
      "  es.index(index='dados_de_exemplo', id=i+1, body=dado)\n"
     ]
    }
   ],
   "source": [
    "from elasticsearch import Elasticsearch\n",
    "\n",
    "# Conectar ao Elasticsearch (usando a URL completa com esquema, host e porta)\n",
    "es = Elasticsearch(['http://elasticsearch:9200'])\n",
    "\n",
    "# Dados de exemplo que você deseja inserir no Elasticsearch\n",
    "dados_de_exemplo = [\n",
    "    {\"nome\": \"Heloisa Machado\", \"idade\": 21, \"cidade\": \"Cascavel\"},\n",
    "    {\"nome\": \"Ana Flavia\", \"idade\": 19, \"cidade\": \"Londrina\"},\n",
    "    {\"nome\": \"Fabio Ribeiro\", \"idade\": 45, \"cidade\": \"Umuarama\"},\n",
    "    {\"nome\": \"Joao da Silva\", \"idade\": 23, \"cidade\": \"Toledo\"},\n",
    "    {\"nome\": \"Maria Souza\", \"idade\": 21, \"cidade\": \"Cascavel\"}\n",
    "]\n",
    "\n",
    "# Inserir dados de exemplo no Elasticsearch\n",
    "for i, dado in enumerate(dados_de_exemplo):\n",
    "    es.index(index='dados_de_exemplo', id=i+1, body=dado)\n",
    "\n",
    "print(\"Dados inseridos com sucesso no Elasticsearch!\")\n"
   ]
  },
  {
   "cell_type": "code",
   "execution_count": null,
   "metadata": {},
   "outputs": [],
   "source": [
    "# Fazer uma consulta para recuperar todos os documentos do índice 'dados_de_exemplo'\n",
    "result = es.search(index='dados_de_exemplo', body={\"query\": {\"match_all\": {}}})\n",
    "\n",
    "# Imprimir os documentos recuperados\n",
    "for hit in result['hits']['hits']:\n",
    "    print(hit['_source'])"
   ]
  }
 ],
 "metadata": {
  "kernelspec": {
   "display_name": "Python 3 (ipykernel)",
   "language": "python",
   "name": "python3"
  },
  "language_info": {
   "codemirror_mode": {
    "name": "ipython",
    "version": 3
   },
   "file_extension": ".py",
   "mimetype": "text/x-python",
   "name": "python",
   "nbconvert_exporter": "python",
   "pygments_lexer": "ipython3",
   "version": "3.11.6"
  }
 },
 "nbformat": 4,
 "nbformat_minor": 4
}
